{
 "cells": [
  {
   "cell_type": "code",
   "execution_count": 1,
   "outputs": [],
   "source": [
    "def number_of_lines():\n",
    "    count = 0\n",
    "    with open(\"mbox-short.txt\", \"r\") as file:\n",
    "        for line in file:\n",
    "            count+=1\n",
    "    return count"
   ],
   "metadata": {
    "collapsed": false,
    "pycharm": {
     "name": "#%%\n"
    }
   }
  },
  {
   "cell_type": "code",
   "execution_count": 3,
   "outputs": [
    {
     "name": "stdout",
     "output_type": "stream",
     "text": [
      "1910\n"
     ]
    }
   ],
   "source": [
    "print(number_of_lines())"
   ],
   "metadata": {
    "collapsed": false,
    "pycharm": {
     "name": "#%%\n"
    }
   }
  },
  {
   "cell_type": "code",
   "execution_count": 4,
   "outputs": [],
   "source": [
    "import re\n",
    "def count_number_of_lines():\n",
    "    count = 0\n",
    "    with open(\"mbox-short.txt\", \"r\") as file:\n",
    "        for line in file:\n",
    "            if re.search('^Subject', line):\n",
    "                count+=1\n",
    "    return count"
   ],
   "metadata": {
    "collapsed": false,
    "pycharm": {
     "name": "#%%\n"
    }
   }
  },
  {
   "cell_type": "code",
   "execution_count": 5,
   "outputs": [
    {
     "name": "stdout",
     "output_type": "stream",
     "text": [
      "27\n"
     ]
    }
   ],
   "source": [
    "print(count_number_of_lines())"
   ],
   "metadata": {
    "collapsed": false,
    "pycharm": {
     "name": "#%%\n"
    }
   }
  },
  {
   "cell_type": "code",
   "execution_count": 6,
   "outputs": [],
   "source": [
    "import re\n",
    "def average_spam_confidence():\n",
    "    vals = []\n",
    "    with open(\"mbox-short.txt\", \"r\") as file:\n",
    "        for line in file:\n",
    "            if re.search('^X-DSPAM-Confidence:', line):\n",
    "                sparr = line.rstrip().split(':')\n",
    "                vals.append(float(sparr[1]))\n",
    "    return sum(vals)/len(vals)"
   ],
   "metadata": {
    "collapsed": false,
    "pycharm": {
     "name": "#%%\n"
    }
   }
  },
  {
   "cell_type": "code",
   "execution_count": 7,
   "outputs": [
    {
     "name": "stdout",
     "output_type": "stream",
     "text": [
      "0.7507185185185187\n"
     ]
    }
   ],
   "source": [
    "print(average_spam_confidence())"
   ],
   "metadata": {
    "collapsed": false,
    "pycharm": {
     "name": "#%%\n"
    }
   }
  },
  {
   "cell_type": "code",
   "execution_count": 8,
   "outputs": [],
   "source": [
    "import re\n",
    "def find_email_sent_days():\n",
    "    dic = dict()\n",
    "    with open(\"mbox-short.txt\", \"r\") as file:\n",
    "        for line in file:\n",
    "            if re.search('^From', line):\n",
    "                day = str(line.split()[2]) if (len(line.split()) > 2) else None\n",
    "                if day is not None :\n",
    "                    dic[day] = dic[day]+1 if day in dic else 1\n",
    "    return dic"
   ],
   "metadata": {
    "collapsed": false,
    "pycharm": {
     "name": "#%%\n"
    }
   }
  },
  {
   "cell_type": "code",
   "execution_count": 9,
   "outputs": [
    {
     "name": "stdout",
     "output_type": "stream",
     "text": [
      "{'Sat': 1, 'Fri': 20, 'Thu': 6}\n"
     ]
    }
   ],
   "source": [
    "print(find_email_sent_days())"
   ],
   "metadata": {
    "collapsed": false,
    "pycharm": {
     "name": "#%%\n"
    }
   }
  },
  {
   "cell_type": "code",
   "execution_count": 10,
   "outputs": [],
   "source": [
    "def count_message_from_email():\n",
    "    dic = dict()\n",
    "    with open(\"mbox-short.txt\", \"r\") as file:\n",
    "        for line in file:\n",
    "            if re.search('^From:', line):\n",
    "                email = re.findall('\\S*@\\S*', line)\n",
    "                if len(email) > 0:\n",
    "                    dic[email[0]] = dic[email[0]]+1 if email[0] in dic else 1\n",
    "    tot = 0\n",
    "    for element in dic.values():\n",
    "        tot = tot + element\n",
    "    print('tot: ',tot)\n",
    "    return dic"
   ],
   "metadata": {
    "collapsed": false,
    "pycharm": {
     "name": "#%%\n"
    }
   }
  },
  {
   "cell_type": "code",
   "execution_count": 11,
   "outputs": [
    {
     "name": "stdout",
     "output_type": "stream",
     "text": [
      "tot:  27\n",
      "{'stephen.marquard@uct.ac.za': 2, 'louis@media.berkeley.edu': 3, 'zqian@umich.edu': 4, 'rjlowe@iupui.edu': 2, 'cwen@iupui.edu': 5, 'gsilver@umich.edu': 3, 'wagnermr@iupui.edu': 1, 'antranig@caret.cam.ac.uk': 1, 'gopal.ramasammycook@gmail.com': 1, 'david.horwitz@uct.ac.za': 4, 'ray@media.berkeley.edu': 1}\n"
     ]
    }
   ],
   "source": [
    "print(count_message_from_email())"
   ],
   "metadata": {
    "collapsed": false,
    "pycharm": {
     "name": "#%%\n"
    }
   }
  },
  {
   "cell_type": "code",
   "execution_count": 12,
   "outputs": [],
   "source": [
    "def count_message_from_domain():\n",
    "    dic = dict()\n",
    "    with open(\"mbox-short.txt\", \"r\") as file:\n",
    "        for line in file:\n",
    "            if re.search('^From', line):\n",
    "                email = re.findall('\\S*@(\\S*)', line)\n",
    "                if len(email) > 0:\n",
    "                    dic[email[0]] = dic[email[0]]+1 if email[0] in dic else 1\n",
    "    return dic"
   ],
   "metadata": {
    "collapsed": false,
    "pycharm": {
     "name": "#%%\n"
    }
   }
  },
  {
   "cell_type": "code",
   "execution_count": 13,
   "outputs": [
    {
     "name": "stdout",
     "output_type": "stream",
     "text": [
      "{'uct.ac.za': 12, 'media.berkeley.edu': 8, 'umich.edu': 14, 'iupui.edu': 16, 'caret.cam.ac.uk': 2, 'gmail.com': 2}\n"
     ]
    }
   ],
   "source": [
    "print(count_message_from_domain())\n",
    "\n",
    "\n",
    "\n"
   ],
   "metadata": {
    "collapsed": false,
    "pycharm": {
     "name": "#%%\n"
    }
   }
  }
 ],
 "metadata": {
  "kernelspec": {
   "name": "pycharm-44cb7058",
   "language": "python",
   "display_name": "PyCharm (python)"
  },
  "language_info": {
   "codemirror_mode": {
    "name": "ipython",
    "version": 2
   },
   "file_extension": ".py",
   "mimetype": "text/x-python",
   "name": "python",
   "nbconvert_exporter": "python",
   "pygments_lexer": "ipython2",
   "version": "2.7.6"
  }
 },
 "nbformat": 4,
 "nbformat_minor": 0
}